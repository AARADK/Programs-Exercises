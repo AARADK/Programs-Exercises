{
 "cells": [
  {
   "cell_type": "markdown",
   "metadata": {},
   "source": [
    "PROGRAMS: "
   ]
  },
  {
   "cell_type": "code",
   "execution_count": null,
   "metadata": {},
   "outputs": [],
   "source": [
    "#Q1\n",
    "def tof(x):\n",
    "    if x in range(0,101):\n",
    "        return True\n",
    "    else:\n",
    "        return False\n",
    "    \n",
    "x = float(input(\"Enter a number: \"))\n",
    "ans = tof(x)\n",
    "print(ans)\n"
   ]
  },
  {
   "cell_type": "code",
   "execution_count": null,
   "metadata": {},
   "outputs": [],
   "source": [
    "#Q2\n",
    "def ul(word):\n",
    "    low = 0\n",
    "    up = 0\n",
    "    for i in word:\n",
    "        z = i\n",
    "        if i.lower() == z:\n",
    "            low += 1\n",
    "        else:\n",
    "            up += 1\n",
    "    return low, up\n",
    "\n",
    "new = input(\"Enter a word: \")\n",
    "low, up = ul(new)\n",
    "\n",
    "print(f\"Uppercase = {up}\")\n",
    "print(f\"Lowercase = {low}\")\n"
   ]
  },
  {
   "cell_type": "code",
   "execution_count": null,
   "metadata": {},
   "outputs": [],
   "source": [
    "#Q3\n",
    "def greet(word):\n",
    "    word = word.title()\n",
    "    return word\n",
    "\n",
    "name = input(\"What's your name? \")\n",
    "greeting = greet(name)\n",
    "\n",
    "print(f\"Hello, {greeting}\")\n"
   ]
  },
  {
   "cell_type": "code",
   "execution_count": null,
   "metadata": {},
   "outputs": [],
   "source": [
    "#Q4\n",
    "def removal(word):\n",
    "    new_word = []\n",
    "    get_new = \"\"\n",
    "    \n",
    "    if len(word) == 0 or len(word) == 1:\n",
    "        print(\"Enter 2 or more letters\")\n",
    "    \n",
    "    else:\n",
    "        for i in word:\n",
    "            new_word += i\n",
    "            \n",
    "        nolast = new_word[:-1]\n",
    "        \n",
    "        for i in nolast:\n",
    "            get_new += i\n",
    "            \n",
    "        print(get_new)\n",
    "\n",
    "inp = input(\"Enter a string: \")\n",
    "word = removal(inp)\n"
   ]
  },
  {
   "cell_type": "code",
   "execution_count": null,
   "metadata": {},
   "outputs": [],
   "source": [
    "#Q5\n",
    "def cen_to_fah(temp):\n",
    "    fah = temp * (9/5) + 32\n",
    "    return fah\n",
    "\n",
    "def fah_to_cen(temp):\n",
    "    cen = (temp - 32) * (5/9)\n",
    "    return cen\n",
    "\n",
    "x = int(input('''1) Celsius to Fahrenheit\n",
    "          2) Fahrenheit to Celsius\n",
    "          '''))\n",
    "\n",
    "if x == 1:\n",
    "    y = float(input(\"Enter temperature to convert: \"))\n",
    "    z = cen_to_fah(y)\n",
    "    print(f\"{y}C = {z}F\")\n",
    "    \n",
    "elif x == 2:\n",
    "    y = float(input(\"Enter temperature to convert: \"))\n",
    "    z = fah_to_cen(y)\n",
    "    print(f\"{y}F = {z}C\")\n",
    "    \n",
    "else:\n",
    "    print(\"Enter valid option.\")\n",
    "    "
   ]
  },
  {
   "cell_type": "code",
   "execution_count": null,
   "metadata": {},
   "outputs": [],
   "source": [
    "#Q6\n",
    "temp = input(\"Enter temperature in celsius (eg: 30C): \")\n",
    "x = temp[-1]\n",
    "x = x.lower()\n",
    "y = temp[:-1]\n",
    "try:\n",
    "    y = float(y)\n",
    "    if (x == \"c\"):\n",
    "        fah = y * (9/5) - 32\n",
    "        print(f\"{y}C = {fah}F\")\n",
    "    else:\n",
    "        print(\"Invalid unit\")\n",
    "    \n",
    "except:\n",
    "    print(\"Enter valid number then unit\")\n"
   ]
  },
  {
   "cell_type": "code",
   "execution_count": null,
   "metadata": {},
   "outputs": [],
   "source": [
    "#Q7\n",
    "from statistics import mean\n",
    "\n",
    "def maxi(num):\n",
    "    return max(num)\n",
    "\n",
    "def mini(num):\n",
    "    return min(num)\n",
    "\n",
    "def means(num):\n",
    "    return mean(num)\n",
    "\n",
    "vals = []\n",
    "for i in range(6):\n",
    "    value = float(input(\"Enter temperature for average: \"))\n",
    "    vals.append(value)\n",
    "\n",
    "print(maxi(vals))\n",
    "print(mini(vals))\n",
    "print(mean(vals))"
   ]
  },
  {
   "cell_type": "code",
   "execution_count": null,
   "metadata": {},
   "outputs": [],
   "source": [
    "#Q8\n",
    "from statistics import mean\n",
    "\n",
    "def maxi(num):\n",
    "    return max(num)\n",
    "\n",
    "def mini(num):\n",
    "    return min(num)\n",
    "\n",
    "def means(num):\n",
    "    return mean(num)\n",
    "\n",
    "vals = []\n",
    "while True:\n",
    "    try:\n",
    "        value = float(input(\"Enter a number: \"))\n",
    "    except ValueError:\n",
    "        break\n",
    "\n",
    "    vals.append(value)\n",
    "\n",
    "try: \n",
    "    print(maxi(vals))\n",
    "    print(mini(vals))\n",
    "    print(mean(vals))\n",
    "\n",
    "except ValueError:\n",
    "    print(\"Enter at least one value\")"
   ]
  },
  {
   "cell_type": "markdown",
   "metadata": {},
   "source": [
    "EXERCISES:"
   ]
  },
  {
   "cell_type": "markdown",
   "metadata": {},
   "source": [
    "What must be done before a function that is not built-in to Python can be used in a program?\n",
    "\n",
    "-> import from library"
   ]
  },
  {
   "cell_type": "markdown",
   "metadata": {},
   "source": [
    "Given the following import statement, how would a call to the sin() function be made? \n",
    "\n",
    "import math \n",
    "\n",
    "-> math.sin()"
   ]
  },
  {
   "cell_type": "markdown",
   "metadata": {},
   "source": [
    "Given the following import statement, how would a call to the sqrt() function be made? \n",
    "\n",
    "from math import sqrt \n",
    "\n",
    "->qrt()"
   ]
  },
  {
   "cell_type": "markdown",
   "metadata": {},
   "source": [
    "What is the name of the common library that is available with all Python distributions?\n",
    "\n",
    "->ython standard library"
   ]
  },
  {
   "cell_type": "markdown",
   "metadata": {},
   "source": [
    "What keyword is used in Python to define a new function?\n",
    "\n",
    "->ef"
   ]
  },
  {
   "cell_type": "markdown",
   "metadata": {},
   "source": [
    "Write some Python code that defines a function called print_header(msg). This should \n",
    "output the value provided by the ‘msg’ parameter to the screen (prefixed by five asterisk \n",
    "‘*****’) characters.\n",
    "\n",
    "->\n",
    "def print_header(msg):\n",
    "    return msg\n",
    "\n",
    "result = print_header(\"*****\")\n",
    "print(result)"
   ]
  },
  {
   "cell_type": "markdown",
   "metadata": {},
   "source": [
    "In the answer box below give an example of what the docstring may look like for the  \n",
    "#print_header(msg) function. \n",
    "\n",
    "->\n",
    "def print_header(msg):\n",
    "    '''defining the function'''"
   ]
  },
  {
   "cell_type": "markdown",
   "metadata": {},
   "source": [
    "Where within a function definition should a docstring appear? \n",
    "\n",
    "->irst statement of the function body."
   ]
  },
  {
   "cell_type": "markdown",
   "metadata": {},
   "source": [
    "What statement should appear within a function’s code block to cause a specific value to be \n",
    "passed back to the caller of the function? \n",
    "\n",
    "->eturn"
   ]
  },
  {
   "cell_type": "markdown",
   "metadata": {},
   "source": [
    "Write some Python code that defines a function called find_min(a,b) that returns the \n",
    "smallest of the two given parameter values.\n",
    "\n",
    "->\n",
    "def find_min(a,b):\n",
    "    return min(a,b)\n",
    "\n",
    "minimum = find_min(1,2)\n",
    "print(minimum)"
   ]
  },
  {
   "cell_type": "markdown",
   "metadata": {},
   "source": [
    "Given the following function definition, which of the formal parameters could be described as \n",
    "being a default argument? \n",
    "def shouldContinue(prompt, answer=False): \n",
    "# function body... \n",
    "\n",
    "->nswer = False"
   ]
  },
  {
   "cell_type": "markdown",
   "metadata": {},
   "source": [
    "Provide two example calls to the above function, one which provides a value for the default \n",
    "argument, and one that does not.\n",
    "\n",
    "->\n",
    "shouldCountinue(\"hello\",answer =\"True\")\n",
    "shouldCountinue(\"hello\")"
   ]
  },
  {
   "cell_type": "markdown",
   "metadata": {},
   "source": [
    "State why following function definition would not be allowed. \n",
    "def do_something(prefix=\"Message\", prompt, answer=False): \n",
    "# function body... \n",
    "\n",
    "->eyword arguments must follow positonal arguments."
   ]
  },
  {
   "cell_type": "markdown",
   "metadata": {},
   "source": [
    "What single character is placed directly before the name of a formal parameter, to indicate \n",
    "that a variable number of actual parameters can be passed when the function is called?\n",
    "\n",
    "->"
   ]
  },
  {
   "cell_type": "markdown",
   "metadata": {},
   "source": [
    "What commonly used built-in function, which displays output on the screen, can take a \n",
    "variable number of arguments?\n",
    "\n",
    "-> print()"
   ]
  },
  {
   "cell_type": "markdown",
   "metadata": {},
   "source": [
    "Is it valid for a function’s parameter name to be prefixed by two asterisk characters ‘**’ as \n",
    "shown below? \n",
    "def send_output(**details):\n",
    "\n",
    "\n",
    "->es (arbitary keyword arguments)"
   ]
  },
  {
   "cell_type": "markdown",
   "metadata": {},
   "source": [
    "What is the name given to a small ‘anonymous’ function that must be defined using a single \n",
    "expression?\n",
    "\n",
    "->bda"
   ]
  },
  {
   "cell_type": "markdown",
   "metadata": {},
   "source": [
    "Give an example of such a function that calculates the cube of a given number (i.e. the value \n",
    "#of the number raised to the power of three) - \n",
    "\n",
    "->\n",
    "def cube_num(a):\n",
    "    return a ** 3\n",
    "\n",
    "cube = cube_num(2)\n",
    "print(cube)\n"
   ]
  }
 ],
 "metadata": {
  "kernelspec": {
   "display_name": "Python 3",
   "language": "python",
   "name": "python3"
  },
  "language_info": {
   "codemirror_mode": {
    "name": "ipython",
    "version": 3
   },
   "file_extension": ".py",
   "mimetype": "text/x-python",
   "name": "python",
   "nbconvert_exporter": "python",
   "pygments_lexer": "ipython3",
   "version": "3.10.11"
  }
 },
 "nbformat": 4,
 "nbformat_minor": 2
}

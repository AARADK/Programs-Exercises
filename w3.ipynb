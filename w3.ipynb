{
 "cells": [
  {
   "cell_type": "markdown",
   "metadata": {},
   "source": [
    "PROGRAMS:"
   ]
  },
  {
   "cell_type": "code",
   "execution_count": null,
   "metadata": {},
   "outputs": [],
   "source": [
    "#Q1\n",
    "name = input(\"Enter your name: \")\n",
    "name = name.title()\n",
    "\n",
    "if not name:\n",
    "    print(\"Hello, stranger\")\n",
    "else:\n",
    "    print(f\"Hello, {name}\")"
   ]
  },
  {
   "cell_type": "code",
   "execution_count": null,
   "metadata": {},
   "outputs": [],
   "source": [
    "#Q2\n",
    "password = input(\"Enter password: \")\n",
    "wordpass = input(\"Re-enter password: \")\n",
    "\n",
    "if password == wordpass:\n",
    "    print(\"Password Set\")\n",
    "else:\n",
    "    print(\"Passwords do not match.\")"
   ]
  },
  {
   "cell_type": "code",
   "execution_count": null,
   "metadata": {},
   "outputs": [],
   "source": [
    "#Q3\n",
    "password = input(\"Enter password: \")\n",
    "\n",
    "if len(password) >= 8 and len(password) <= 12:\n",
    "    wordpass = input(\"Re-enter password: \")\n",
    "\n",
    "    if password == wordpass:\n",
    "        print(\"Password Set\")\n",
    "    else:\n",
    "        print(\"Passwords do not match.\")\n",
    "        \n",
    "else:\n",
    "    print(\"Password should be between 8 and 12 characters\")"
   ]
  },
  {
   "cell_type": "code",
   "execution_count": null,
   "metadata": {},
   "outputs": [],
   "source": [
    "#Q4\n",
    "notword = ['password', 'letmein', 'sesame', 'hello', 'justinbieber']\n",
    "password = input(\"Enter password: \")\n",
    "\n",
    "if len(password) >= 8 and len(password) <= 12 and password not in notword:\n",
    "    wordpass = input(\"Re-enter password: \")\n",
    "\n",
    "    if password == wordpass:\n",
    "        print(\"Password Set\")\n",
    "    else:\n",
    "        print(\"Passwords do not match.\")\n",
    "        \n",
    "else:\n",
    "    print(\"Password should be between 8 and 12 characters\")\n",
    "    print(f\"Password should not be {notword}\")"
   ]
  },
  {
   "cell_type": "code",
   "execution_count": null,
   "metadata": {},
   "outputs": [],
   "source": [
    "#Q5\n",
    "notword = ['password', 'letmein', 'sesame', 'hello', 'justinbieber']\n",
    "\n",
    "while True:\n",
    "    password = input(\"Enter password: \")\n",
    "\n",
    "    if len(password) >= 8 and len(password) <= 12 and password not in notword:\n",
    "        wordpass = input(\"Re-enter password: \")\n",
    "\n",
    "        if password == wordpass:\n",
    "            print(\"Password Set\")\n",
    "            break\n",
    "        else:\n",
    "            print(\"Passwords do not match.\")\n",
    "            \n",
    "    else:\n",
    "        print(\"Password should be between 8 and 12 characters\")\n",
    "        print(f\"Password should not be {notword}\")"
   ]
  },
  {
   "cell_type": "code",
   "execution_count": null,
   "metadata": {},
   "outputs": [],
   "source": [
    "#Q6\n",
    "num = 7\n",
    "for i in range(13):\n",
    "    print(f\"{num} * {i} = {num*i}\")"
   ]
  },
  {
   "cell_type": "code",
   "execution_count": null,
   "metadata": {},
   "outputs": [],
   "source": [
    "#Q7\n",
    "num = float(input(\"Enter number to get table: \"))\n",
    "for i in range(13):\n",
    "    print(f\"{num} * {i} = {num*i}\")"
   ]
  },
  {
   "cell_type": "code",
   "execution_count": null,
   "metadata": {},
   "outputs": [],
   "source": [
    "#Q8\n",
    "num = float(input(\"Enter number to get table: \"))\n",
    "\n",
    "if num >= 0:\n",
    "    for i in range(13):\n",
    "        print(f\"{num} * {i} = {num*i}\")\n",
    "        \n",
    "else:        \n",
    "    for i in range(12, -1, -1):\n",
    "        print(f\"{num} * {i} = {num*i}\")"
   ]
  },
  {
   "cell_type": "markdown",
   "metadata": {},
   "source": [
    "EXERCISES:"
   ]
  },
  {
   "cell_type": "markdown",
   "metadata": {},
   "source": [
    "What is the data-type of the result when evaluating comparison (relational) expressions such\n",
    "as < and >?\n",
    "\n",
    "-> Boolean"
   ]
  },
  {
   "cell_type": "markdown",
   "metadata": {},
   "source": [
    "For each of the following expressions write the result of their evaluation.\n",
    "\n",
    "100 < 101 (True)\n",
    "100 > 99 (True)\n",
    "100 >= 100 (True)\n",
    "100 != 100 (False)True\n",
    "\"abc\" < \"xyz\" (True)\n",
    "\"abc\" < \"XYZ\" (False)\n",
    "\"100\" == 100 (False)\n",
    "10 > 20 and 10 >= 10 (False)\n",
    "10 > 30 > 20 (False)\n",
    "40 < 20 or 20 < 30 (True)\n",
    "not True (False)"
   ]
  },
  {
   "cell_type": "markdown",
   "metadata": {},
   "source": [
    "colours = [ \"Blue\", \"Black\", \"Orange\" ]\n",
    "print(\"The colour black is in the list : \", \"Black\" in colours)\n",
    "\n",
    "-> The colour black is in the list : True"
   ]
  },
  {
   "cell_type": "markdown",
   "metadata": {},
   "source": [
    "colours = [ \"Blue\", \"Black\", \"Orange\" ]\n",
    "print(\"The colour orange is in the list : \", \"orange\" in colours)\n",
    "\n",
    "-> The colour orange is in the list : False"
   ]
  },
  {
   "cell_type": "markdown",
   "metadata": {},
   "source": [
    "Which of the following concepts does the Python ‘if’ statement support?\n",
    " Sequence, Selection or Iteration?\n",
    "\n",
    " -> selection"
   ]
  },
  {
   "cell_type": "markdown",
   "metadata": {},
   "source": [
    "num1 = 100\n",
    "num2 = 10\n",
    "if num1 % num2 == 0:\n",
    " print(\"num1 is divisible by num2\")\n",
    "else:\n",
    " print(\"num1 is not divisible by num2\")\n",
    "\n",
    "-> num1 is divisible by num2"
   ]
  },
  {
   "cell_type": "markdown",
   "metadata": {},
   "source": [
    "num1 = 99\n",
    "num2 = 70\n",
    "if num1 < num2:\n",
    " print(\"num1 is less than num2\")\n",
    "elif num1 > num2:\n",
    " print(\"num1 is greater than num2\")\n",
    "else:\n",
    " print(\"num1 is equal to num2\")\n",
    "\n",
    "-> num1 is greater than num2"
   ]
  },
  {
   "cell_type": "markdown",
   "metadata": {},
   "source": [
    "lowest = x if x < y else y\n",
    "\n",
    "-> ternary operator"
   ]
  },
  {
   "cell_type": "markdown",
   "metadata": {},
   "source": [
    "And, what value would be assigned to the variable ‘lowest’ when ‘x’ was equal to 10 and\n",
    " ‘y’ was equal to 5?\n",
    "\n",
    "x = 10\n",
    "y = 5\n",
    "lowest = x if x < y else y\n",
    "print(lowest)\n",
    "\n",
    "-> 5"
   ]
  },
  {
   "cell_type": "markdown",
   "metadata": {},
   "source": [
    "num =  int(input(\"please enter a number between 1 and 10 : \"))\n",
    "if num in range (1,11):\n",
    "    print(\"in range\")\n",
    "else:\n",
    "    print(\"not in range\")\n",
    "\n",
    "-> \"in range\" if input is between 1 and 10 (inclusive) or else \"not in range\""
   ]
  },
  {
   "cell_type": "markdown",
   "metadata": {},
   "source": [
    "x = int(input(\"enter the first value:\"))\n",
    "y = int(input(\"enter the second value:\"))\n",
    "if x > y:\n",
    "    print(\" The value 'x' is larger than the value 'y'\")\n",
    "elif y > x:\n",
    "    print(\"The value 'y' is larger than the value 'x'\")\n",
    "\n",
    "ans: depends on value of x and y"
   ]
  },
  {
   "cell_type": "markdown",
   "metadata": {},
   "source": [
    "Examine the output generated by the above program. Is the displayed text entirely accurate\n",
    "in all cases? If not Why?\n",
    "\n",
    "-> when x and y are equal"
   ]
  },
  {
   "cell_type": "markdown",
   "metadata": {},
   "source": [
    "Within the answer box below write a small Python program that asks the user to enter two\n",
    "values.\n",
    "Store these values in two variables then output a message displaying the result of dividing\n",
    "the first value by the second value.\n",
    "Include code that prevents a run-time error being reported when the user inputs a value of '0'\n",
    "for the second input. Hint: use an ‘if’ statement\n",
    "If a '0' value is input, print a message saying \"division by 0 is not possible\"."
   ]
  },
  {
   "cell_type": "markdown",
   "metadata": {},
   "source": [
    "x = int(input(\"enter the first value:\"))\n",
    "y = int(input(\"enter the second value:\"))\n",
    "if y != 0:\n",
    "  print(x/y)\n",
    "else:\n",
    "    y == 0\n",
    "    print(\"division by 0 is not possible\")"
   ]
  },
  {
   "cell_type": "markdown",
   "metadata": {},
   "source": [
    "Which of the following concepts does the Python while statement support?\n",
    "Sequence, Selection or Iteration?\n",
    "\n",
    "-> Iteration"
   ]
  },
  {
   "cell_type": "markdown",
   "metadata": {},
   "source": [
    "What would be the output shown following the execution of the following Python statements?\n",
    "num = 5\n",
    "while num > 0:\n",
    "print(num)\n",
    "num -= 1\n",
    "\n",
    "->\n",
    "5\n",
    "4\n",
    "3\n",
    "2\n",
    "1"
   ]
  },
  {
   "cell_type": "markdown",
   "metadata": {},
   "source": [
    "Write a small Python program that prints your name to the screen 100 times, then enter the\n",
    "program into the answer box below. Hint: use a ‘while’ loop.\n",
    "\n",
    "n = 1\n",
    "while n <=100:\n",
    "    print(\"aarjan\")\n",
    "    n += 1"
   ]
  },
  {
   "cell_type": "markdown",
   "metadata": {},
   "source": [
    "What would be the output shown following the execution of the following Python statements?\n",
    " vals = [\"A\", \"B\", \"C\", \"D\"]\n",
    " for letter in vals:\n",
    " print(letter)\n",
    "\n",
    "->\n",
    "A\n",
    "B\n",
    "C\n",
    "D"
   ]
  },
  {
   "cell_type": "markdown",
   "metadata": {},
   "source": [
    "What would be the output shown following the execution of each of the following Python\n",
    "statements?"
   ]
  },
  {
   "cell_type": "markdown",
   "metadata": {},
   "source": [
    "for num in range(5):\n",
    " print(num)\n",
    "\n",
    "->\n",
    "0\n",
    "1\n",
    "2\n",
    "3\n",
    "4"
   ]
  },
  {
   "cell_type": "markdown",
   "metadata": {},
   "source": [
    "for num in range(10,16):\n",
    " print(num)\n",
    "\n",
    "->\n",
    "10\n",
    "11\n",
    "12\n",
    "13\n",
    "14\n",
    "15"
   ]
  },
  {
   "cell_type": "markdown",
   "metadata": {},
   "source": [
    "for num in range(0,10,-1):\n",
    " print(num)\n",
    "\n",
    "-> no output"
   ]
  },
  {
   "cell_type": "markdown",
   "metadata": {},
   "source": [
    "Enter and execute the python code shown below, then show the exact output into the\n",
    " answer box.\n",
    "\n",
    "for x in range(1,10):\n",
    "     for y in range (1,x):\n",
    "          print(\"*\")\n",
    "     print()\n",
    "\n",
    "->\n",
    "\n",
    "*\n",
    "\n",
    "*\n",
    "*\n",
    "\n",
    "*\n",
    "*\n",
    "*\n",
    "\n",
    "... 9 \"*\" at the end"
   ]
  },
  {
   "cell_type": "markdown",
   "metadata": {},
   "source": [
    "What is the term used to refer to code blocks that appear inside other code blocks as in the\n",
    "above program?\n",
    "\n",
    "-> nested code blocks"
   ]
  }
 ],
 "metadata": {
  "kernelspec": {
   "display_name": "Python 3",
   "language": "python",
   "name": "python3"
  },
  "language_info": {
   "codemirror_mode": {
    "name": "ipython",
    "version": 3
   },
   "file_extension": ".py",
   "mimetype": "text/x-python",
   "name": "python",
   "nbconvert_exporter": "python",
   "pygments_lexer": "ipython3",
   "version": "3.10.11"
  }
 },
 "nbformat": 4,
 "nbformat_minor": 2
}

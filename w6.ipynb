{
 "cells": [
  {
   "cell_type": "markdown",
   "metadata": {},
   "source": [
    "PROGRAMS:"
   ]
  },
  {
   "cell_type": "code",
   "execution_count": null,
   "metadata": {},
   "outputs": [],
   "source": [
    "#Q1\n",
    "def conv(num):\n",
    "    c = ''\n",
    "    \n",
    "    while num != 0:\n",
    "        r = num / 2\n",
    "        num = num // 2\n",
    "        \n",
    "        if r == num:\n",
    "            number = '0'\n",
    "        else:\n",
    "            number = '1'\n",
    "            \n",
    "        c = number + c\n",
    "        \n",
    "    if c != '':\n",
    "        return c\n",
    "    \n",
    "    else:\n",
    "        return '0'\n",
    "    \n",
    "dec = int(input(\"Enter a number in decimal: \"))    \n",
    "print(conv(dec))"
   ]
  },
  {
   "cell_type": "code",
   "execution_count": null,
   "metadata": {},
   "outputs": [],
   "source": [
    "#Q2\n",
    "def integer(num):\n",
    "    factors = []\n",
    "    \n",
    "    for i in range(1, num+1):\n",
    "        if num % i == 0:\n",
    "            factors.append(i)\n",
    "    \n",
    "    return factors\n",
    "\n",
    "num = int(input(\"Enter a number: \"))\n",
    "print(integer(num))"
   ]
  },
  {
   "cell_type": "code",
   "execution_count": null,
   "metadata": {},
   "outputs": [],
   "source": [
    "#Q3\n",
    "def integer(num):\n",
    "    factors = []\n",
    "    \n",
    "    for i in range(1, num+1):\n",
    "        if num % i == 0:\n",
    "            factors.append(i)\n",
    "    \n",
    "    return factors\n",
    "\n",
    "num = int(input(\"Enter a number: \"))\n",
    "factors = integer(num)\n",
    "\n",
    "if len(factors) == 2:\n",
    "    print(\"It is prime\")\n",
    "    \n",
    "elif len(factors) > 2:\n",
    "    print(\"It is composite\")\n",
    "\n",
    "else:\n",
    "    print(\"It is neither prime nor composite.\")\n"
   ]
  },
  {
   "cell_type": "code",
   "execution_count": null,
   "metadata": {},
   "outputs": [],
   "source": [
    "#Q4\n",
    "def encrypt(password):\n",
    "    new = ''\n",
    "    for i in password:\n",
    "        if i != ' ':\n",
    "            new = i + new\n",
    "    return new\n",
    "\n",
    "password = input(\"Enter a password: \")\n",
    "print(f\"Encoded password is {encrypt(password)}\")"
   ]
  },
  {
   "cell_type": "code",
   "execution_count": 5,
   "metadata": {},
   "outputs": [
    {
     "name": "stdout",
     "output_type": "stream",
     "text": [
      "HGCMElstLjjkLQFXOkqg\n"
     ]
    }
   ],
   "source": [
    "#Q5\n",
    "import random\n",
    "def hidden(word):\n",
    "    sum = ''\n",
    "    for i in word:\n",
    "        num = random.randint(1,2)\n",
    "        if num == 1:\n",
    "            if  i != ' ':\n",
    "                sum = sum + i + chr(random.randint(65, 90)) + chr(random.randint(65, 90)) + chr(random.randint(65, 90))\n",
    "            else:\n",
    "                sum += i\n",
    "        elif num == 2:\n",
    "            if  i != ' ':\n",
    "                sum = sum + i + chr(random.randint(97, 122)) + chr(random.randint(97, 122)) + chr(random.randint(97, 122))\n",
    "            else:\n",
    "                sum += i\n",
    "    \n",
    "    return sum\n",
    "\n",
    "message = input(\"Enter a message: \")\n",
    "print(hidden(message))"
   ]
  },
  {
   "cell_type": "code",
   "execution_count": null,
   "metadata": {},
   "outputs": [],
   "source": [
    "#Q6\n"
   ]
  },
  {
   "cell_type": "markdown",
   "metadata": {},
   "source": [
    "EXERCISES:"
   ]
  },
  {
   "cell_type": "markdown",
   "metadata": {},
   "source": [
    "Would you describe the following Python statement as a function call? Or a method call?\n",
    "names.reverse()\n",
    "\n",
    "-> Function call"
   ]
  },
  {
   "cell_type": "markdown",
   "metadata": {},
   "source": [
    "Write a Python statement that appends a single element to the end of the specified List\n",
    "using a method call.\n",
    "prices = [2.65, 7.65, 8.25, 9.56]\n",
    "\n",
    "-> prices.append(element)"
   ]
  },
  {
   "cell_type": "markdown",
   "metadata": {},
   "source": [
    "Write another statement that appends three elements to the end of the specified List using a\n",
    "single method call.\n",
    "\n",
    "->\n",
    "new_list = [1,2,3]\n",
    "prices.append(new_list)"
   ]
  },
  {
   "cell_type": "markdown",
   "metadata": {},
   "source": [
    "Now write a for loop that iterates over each value in the list and prints it to the screen.\n",
    "\n",
    "->\n",
    "for i in prices:\n",
    "    print(i)    "
   ]
  },
  {
   "cell_type": "markdown",
   "metadata": {},
   "source": [
    "Is a method that changes the contents of the associated value referred to as a mutator? Or\n",
    "an accessor?\n",
    "\n",
    "-> Mutator"
   ]
  },
  {
   "cell_type": "markdown",
   "metadata": {},
   "source": [
    "What would the contents of the primes list look like after execution of the following\n",
    "statements?\n",
    "primes = [ 2, 3, 5, 7, 11, 13, 17, 19 ]\n",
    "primes.pop()\n",
    "\n",
    "-> 19"
   ]
  },
  {
   "cell_type": "markdown",
   "metadata": {},
   "source": [
    "primes.reverse()\n",
    "\n",
    "-> [19, 17, 13, 11, 7, 5, 3, 2]"
   ]
  },
  {
   "cell_type": "markdown",
   "metadata": {},
   "source": [
    "primes.remove(7)\n",
    "\n",
    "-> [2, 3, 5, 11, 13, 17, 19]"
   ]
  },
  {
   "cell_type": "markdown",
   "metadata": {},
   "source": [
    "Provide an example of how the insert() method could be used to add a value of 10 to the\n",
    "beginning of the list shown below.\n",
    "temps = [ 32, 46, 95, 10, 50 ]\n",
    "\n",
    "-> temps.insert(0, 10)"
   ]
  },
  {
   "cell_type": "markdown",
   "metadata": {},
   "source": [
    "Now write a statement that uses an accessor method to find the index of the value 95 within\n",
    "the list.\n",
    "\n",
    "-> temps.index(95)"
   ]
  },
  {
   "cell_type": "markdown",
   "metadata": {},
   "source": [
    "Finally write a statement that uses another accessor method to count how many times the\n",
    "number 10 appears within the list.\n",
    "\n",
    "-> temps.count(10)"
   ]
  },
  {
   "cell_type": "markdown",
   "metadata": {},
   "source": [
    "What would be stored in the list samples after the following statements were executed?\n",
    "samples = [ 100.2, 100.6, 99.2, 765.2, 900.2, 400 ]\n",
    "samples = samples.reverse()\n",
    "\n",
    "-> None\n",
    "\n",
    "Explain why this is the case.\n",
    "\n",
    "-> It is because mutators return None "
   ]
  },
  {
   "cell_type": "markdown",
   "metadata": {},
   "source": [
    "Write a Python program that uses a List-Comprehension to produce the same list as the\n",
    "following code -\n",
    "values = []\n",
    "for n in range(100,200):\n",
    "values.append(x*x)\n",
    "\n",
    "-> values = [x*x for x in range(100,200)]"
   ]
  },
  {
   "cell_type": "markdown",
   "metadata": {},
   "source": [
    "Now, amend your code so that it only includes even numbers.\n",
    "\n",
    "-> values = [x*x for x in range(100,200) if x % 2 == 0]"
   ]
  },
  {
   "cell_type": "markdown",
   "metadata": {},
   "source": [
    "What is the data-type of the following value?\n",
    "info = (\"Ken\", \"bae-192\", 62)\n",
    "\n",
    "-> Tuple"
   ]
  },
  {
   "cell_type": "markdown",
   "metadata": {},
   "source": [
    "Is a Tuple mutable or immutable?\n",
    "\n",
    "-> Tuple is immutable"
   ]
  },
  {
   "cell_type": "markdown",
   "metadata": {},
   "source": [
    "Write a statement that creates a Tuple that contains a single element.\n",
    "\n",
    "-> new_tuple = (element_1)"
   ]
  },
  {
   "cell_type": "markdown",
   "metadata": {},
   "source": [
    "Write a single Python statement that unpacks the following Tuple into three variables, called\n",
    "x, y and z.\n",
    "coord = (100, 200, 150)\n",
    "\n",
    "-> x, y, z = coord"
   ]
  },
  {
   "cell_type": "markdown",
   "metadata": {},
   "source": [
    "Write another statement that uses indexing to access the second element of the Tuple and\n",
    "store it in a variable called ‘height’\n",
    "\n",
    "-> height = coord[1]"
   ]
  },
  {
   "cell_type": "markdown",
   "metadata": {},
   "source": [
    "Finally write a ‘for’ loop that prints each value within the Tuple.\n",
    "\n",
    "->\n",
    "for i in coord:\n",
    "    print(i)"
   ]
  },
  {
   "cell_type": "markdown",
   "metadata": {},
   "source": [
    "When a Tuple (or any sequence) type value is being passed as an argument to a function,\n",
    "what single character can be used as a prefix to force the sequence to be unpacked prior to\n",
    "the call being made?\n",
    "\n",
    "-> *"
   ]
  },
  {
   "cell_type": "markdown",
   "metadata": {},
   "source": [
    "When discussing Tuples the phrase heterogeneous is sometimes used to describe the type\n",
    "of stored values. What does this mean in practice?\n",
    "\n",
    "-> It means that the values stored in the tuple have different data types."
   ]
  },
  {
   "cell_type": "markdown",
   "metadata": {},
   "source": [
    "What sister phrase is often used to refer to the type of values stored within a List? And what\n",
    "does this mean?\n",
    "\n",
    "-> The phrase is \"Homogeneous\" suggesting that lists generally contain a singular data type even though it can contain any types."
   ]
  }
 ],
 "metadata": {
  "kernelspec": {
   "display_name": "Python 3",
   "language": "python",
   "name": "python3"
  },
  "language_info": {
   "codemirror_mode": {
    "name": "ipython",
    "version": 3
   },
   "file_extension": ".py",
   "mimetype": "text/x-python",
   "name": "python",
   "nbconvert_exporter": "python",
   "pygments_lexer": "ipython3",
   "version": "3.10.11"
  }
 },
 "nbformat": 4,
 "nbformat_minor": 2
}

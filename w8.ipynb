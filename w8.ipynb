{
 "cells": [
  {
   "cell_type": "markdown",
   "metadata": {},
   "source": [
    "PROGRAMS:"
   ]
  },
  {
   "cell_type": "code",
   "execution_count": null,
   "metadata": {},
   "outputs": [],
   "source": [
    "#Q1\n",
    "import sys\n",
    "txtfile = sys.argv[1]\n",
    "with open(txtfile, \"rt\") as file:\n",
    "    lines = file.readlines()\n",
    "\n",
    "for i in range(len(lines)):\n",
    "    lines[i] = f\"{i+1}. {lines[i].strip()}\"\n",
    "\n",
    "for i in lines:\n",
    "    print(i)\n"
   ]
  },
  {
   "cell_type": "code",
   "execution_count": null,
   "metadata": {},
   "outputs": [],
   "source": [
    "#Q2\n",
    "import sys\n",
    "txtfile = sys.argv[1]\n",
    "txtfile0 = sys.argv[2]\n",
    "\n",
    "with open(txtfile, \"rt\") as file:\n",
    "    lines = file.readlines()\n",
    "\n",
    "with open(txtfile0, \"rt\") as file:\n",
    "    lines0 = file.readlines()\n",
    "    \n",
    "if lines == lines0:\n",
    "    print(\"They have same content.\")\n",
    "\n",
    "else:\n",
    "    print(\"They have different content.\")\n",
    "    "
   ]
  },
  {
   "cell_type": "code",
   "execution_count": null,
   "metadata": {},
   "outputs": [],
   "source": [
    "#Q3\n",
    "import sys\n",
    "txtfile = sys.argv[2]\n",
    "text = sys.argv[1]\n",
    "\n",
    "with open(txtfile, \"rt\") as file:\n",
    "    lines = file.readlines()\n",
    "\n",
    "new_lines = [i.strip() for i in lines]\n",
    "\n",
    "for i in new_lines:\n",
    "    if text in i:\n",
    "        print(i)\n",
    "        "
   ]
  },
  {
   "cell_type": "code",
   "execution_count": null,
   "metadata": {},
   "outputs": [],
   "source": [
    "#Q4\n",
    "import sys\n",
    "txtfile = sys.argv[1]\n",
    "\n",
    "with open(txtfile, \"rt\") as file:\n",
    "    lines = file.readlines()\n",
    "\n",
    "line_count = len(lines)\n",
    "\n",
    "char = 0\n",
    "\n",
    "for i in lines:\n",
    "    char += len(i)\n",
    "\n",
    "nlc = 0\n",
    "\n",
    "for i in lines:\n",
    "    j = i.strip()\n",
    "    nlc += len(j)\n",
    "\n",
    "print(f\"Lines: {line_count}\")\n",
    "print(f\"Characters: {char}\")\n",
    "print(f\"Characters without new line characters: {nlc}\")\n"
   ]
  },
  {
   "cell_type": "code",
   "execution_count": null,
   "metadata": {},
   "outputs": [],
   "source": [
    "#Q5\n",
    "import sys\n",
    "txtfile = sys.argv[1]\n",
    "\n",
    "with open(txtfile, \"rt\") as file:\n",
    "    lines = file.readlines()\n",
    "\n",
    "words = []\n",
    "\n",
    "for i in lines:\n",
    "    j = i.strip().split(\" \")\n",
    "    for w in j:\n",
    "        words.append(w)\n",
    "\n",
    "with open('words.txt', 'rt') as file:\n",
    "    dict_words = file.readlines()\n",
    "    \n",
    "for i in range(len(dict_words)):\n",
    "    dict_words[i] = dict_words[i].strip().lower()\n",
    "    \n",
    "not_found = []\n",
    "\n",
    "for i in words:\n",
    "    no_punc = i.strip('.,?!@#$%^&*()-_=+[]{}\\\\:;\\\"\\'<>/|')\n",
    "    if no_punc not in dict_words:\n",
    "        not_found.append(no_punc)\n",
    "        \n",
    "print(f\"Misspelled/Unknown words: {not_found}\")\n"
   ]
  }
 ],
 "metadata": {
  "language_info": {
   "name": "python"
  }
 },
 "nbformat": 4,
 "nbformat_minor": 2
}

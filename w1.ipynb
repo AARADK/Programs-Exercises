{
 "cells": [
  {
   "cell_type": "markdown",
   "metadata": {},
   "source": [
    "PROGRAMS:"
   ]
  },
  {
   "cell_type": "code",
   "execution_count": null,
   "metadata": {},
   "outputs": [],
   "source": [
    "# Q1\n",
    "print(\"Hello World\")"
   ]
  },
  {
   "cell_type": "code",
   "execution_count": null,
   "metadata": {},
   "outputs": [],
   "source": [
    "# Q2\n",
    "name = \"Aarjan\"\n",
    "print(f\"Hello, {name}!\")"
   ]
  },
  {
   "cell_type": "code",
   "execution_count": null,
   "metadata": {},
   "outputs": [],
   "source": [
    "# Q3\n",
    "celc_temp = 38.4\n",
    "fahr_temp = celc_temp * (9/5) + 32\n",
    "\n",
    "print(f\"{celc_temp} in celsius is equal to {fahr_temp} in fahrenheit\")"
   ]
  },
  {
   "cell_type": "code",
   "execution_count": null,
   "metadata": {},
   "outputs": [],
   "source": [
    "# Q4\n",
    "matches = 609\n",
    "batted = 1014\n",
    "not_out = 162\n",
    "runs = 48426\n",
    "\n",
    "innings = batted - not_out\n",
    "average = runs / innings\n",
    "\n",
    "print(f\"Boycott had an average of {average} runs in {matches} matches\")"
   ]
  },
  {
   "cell_type": "code",
   "execution_count": null,
   "metadata": {},
   "outputs": [],
   "source": [
    "# Q5\n",
    "group_size = 24\n",
    "\n",
    "students_1 = 113\n",
    "students_2 = 175\n",
    "students_3 = 12\n",
    "\n",
    "group_1 = students_1 // group_size\n",
    "group_2 = students_2 // group_size\n",
    "group_3 = students_3 // group_size\n",
    "total_groups = group_1 + group_2 + group_3\n",
    "\n",
    "remaining_1 = students_1 % group_size\n",
    "remaining_2 = students_2 % group_size\n",
    "remaining_3 = students_3 % group_size\n",
    "leftover = remaining_1 + remaining_2 + remaining_3\n",
    "\n",
    "print(f\"There will be {total_groups} groups with {leftover} leftover students.\")\n",
    "\n"
   ]
  },
  {
   "cell_type": "markdown",
   "metadata": {},
   "source": [
    "EXERCISES:"
   ]
  },
  {
   "cell_type": "markdown",
   "metadata": {},
   "source": [
    "What is the name of the programming language that we will be using on this module? What version of the language are we using?\n",
    "-> Python\n",
    "   Python 3.10.11"
   ]
  },
  {
   "cell_type": "markdown",
   "metadata": {},
   "source": [
    "A computer program takes some input, performs some processing then…. what?\n",
    "-> Gives output"
   ]
  },
  {
   "cell_type": "markdown",
   "metadata": {},
   "source": [
    "What generation of programming language is machine code?\n",
    "-> First generation language"
   ]
  },
  {
   "cell_type": "markdown",
   "metadata": {},
   "source": [
    "Which of the following is known as a second generation programming language?\n",
    "● C++\n",
    "● Java\n",
    "● Assembly\n",
    "● R\n",
    "● Python\n",
    "-> Assembly"
   ]
  },
  {
   "cell_type": "markdown",
   "metadata": {},
   "source": [
    "State one problem associated with writing code in Assembly Language.\n",
    "-> The language is time consuming to write."
   ]
  },
  {
   "cell_type": "markdown",
   "metadata": {},
   "source": [
    "What generation of programming language is Python?\n",
    "-> Third generation language"
   ]
  },
  {
   "cell_type": "markdown",
   "metadata": {},
   "source": [
    "What is the purpose of a compiler?\n",
    "-> It translates the entire source code at once into machine language."
   ]
  },
  {
   "cell_type": "markdown",
   "metadata": {},
   "source": [
    "The Python interpreter uses an interaction model called REPL. What does this stand for?\n",
    "-> Read, Evaluate, Print, Loop"
   ]
  },
  {
   "cell_type": "markdown",
   "metadata": {},
   "source": [
    "Is it true that Python development always has to take place using interactive-mode within the Python interpreter?\n",
    "-> No"
   ]
  },
  {
   "cell_type": "markdown",
   "metadata": {},
   "source": [
    "What does the term IDE stand for?\n",
    "-> Integrated Development Environment"
   ]
  },
  {
   "cell_type": "markdown",
   "metadata": {},
   "source": [
    "What is the main reason why programmers use code libraries?\n",
    "-> Libraries provides many functionalities that makes it easier and faster to\n",
    "   code."
   ]
  },
  {
   "cell_type": "markdown",
   "metadata": {},
   "source": [
    "The Python language is often used in the field of data-science. What other language specifically supports data-science?\n",
    "-> R language"
   ]
  },
  {
   "cell_type": "markdown",
   "metadata": {},
   "source": [
    "An expression within a programming language consists of operands and operators.\n",
    "Given an expression such as: 20 + 10, which part of this is the operator?\n",
    "-> \"+\""
   ]
  },
  {
   "cell_type": "markdown",
   "metadata": {},
   "source": [
    "And, which part of this is the operand?\n",
    "-> 20 and 10"
   ]
  },
  {
   "cell_type": "markdown",
   "metadata": {},
   "source": [
    "Within Python, what calculation is performed by the ‘*’ operator?\n",
    "-> Multiplication"
   ]
  },
  {
   "cell_type": "markdown",
   "metadata": {},
   "source": [
    "And, what calculation is performed by the ‘/’ operator?\n",
    "-> Division"
   ]
  },
  {
   "cell_type": "markdown",
   "metadata": {},
   "source": [
    "And, what calculation is performed by the ‘**’ operator?\n",
    "-> Exponential multiplication"
   ]
  },
  {
   "cell_type": "markdown",
   "metadata": {},
   "source": [
    "Using the information about expression evaluation provided in the related tutorial, evaluate\n",
    "each of the following expressions in your head and type the result in the answer boxes\n",
    "below. Remember that an operator precedence is applied, but can be overridden by the use\n",
    "of parentheses.\n"
   ]
  },
  {
   "cell_type": "markdown",
   "metadata": {},
   "source": [
    "a) 100 + 200 - 50\n",
    "-> 250"
   ]
  },
  {
   "cell_type": "markdown",
   "metadata": {},
   "source": [
    "b) 10 + 20 * 10\n",
    "-> 210"
   ]
  },
  {
   "cell_type": "markdown",
   "metadata": {},
   "source": [
    "c) 20 % 3\n",
    "-> 2"
   ]
  },
  {
   "cell_type": "markdown",
   "metadata": {},
   "source": [
    "d) 20 / (2 * 5)\n",
    "-> 2"
   ]
  },
  {
   "cell_type": "markdown",
   "metadata": {},
   "source": [
    "e) 20 / 2 * 5\n",
    "-> 50"
   ]
  },
  {
   "cell_type": "markdown",
   "metadata": {},
   "source": [
    "f) 10 * 2 + 1 * 3\n",
    "-> 23"
   ]
  },
  {
   "cell_type": "markdown",
   "metadata": {},
   "source": [
    "g) 5 + 10 ** 2\n",
    "-> 105"
   ]
  },
  {
   "cell_type": "markdown",
   "metadata": {},
   "source": [
    "h) (10 + 2 / 2) + ((10 * 2) ** 2)\n",
    "-> 411"
   ]
  },
  {
   "cell_type": "markdown",
   "metadata": {},
   "source": [
    "Use the Python interpreter to input and then execute a simple Python expression that adds the three numbers 100.6, 200.72 and 213.3, then write the result in the answer box below.\n",
    "-> 514.62"
   ]
  },
  {
   "cell_type": "markdown",
   "metadata": {},
   "source": [
    "Use the Python interpreter to input and then execute a simple Python expression that multiplies the three numbers 20.25, 100 and 23.9, then write the result in the answer box\n",
    "below.\n",
    "-> 48,397.5"
   ]
  },
  {
   "cell_type": "markdown",
   "metadata": {},
   "source": [
    "Use the Python interpreter to input and then execute a simple Python expression that divides the number 10 by 0, then write the result in the answer box below.\n",
    "-> ZeroDivisionError"
   ]
  },
  {
   "cell_type": "markdown",
   "metadata": {},
   "source": [
    "What type of error is typically easier to identify? A syntax error? Or a logical error?\n",
    "-> Syntax Error"
   ]
  },
  {
   "cell_type": "markdown",
   "metadata": {},
   "source": [
    "What type of message is used by the Python interpreter to report run-time errors?\n",
    "-> Traceback"
   ]
  },
  {
   "cell_type": "markdown",
   "metadata": {},
   "source": [
    "What command can be used to exit the Python interpreter?\n",
    "-> exit()"
   ]
  }
 ],
 "metadata": {
  "kernelspec": {
   "display_name": "Python 3",
   "language": "python",
   "name": "python3"
  },
  "language_info": {
   "codemirror_mode": {
    "name": "ipython",
    "version": 3
   },
   "file_extension": ".py",
   "mimetype": "text/x-python",
   "name": "python",
   "nbconvert_exporter": "python",
   "pygments_lexer": "ipython3",
   "version": "3.10.11"
  }
 },
 "nbformat": 4,
 "nbformat_minor": 2
}

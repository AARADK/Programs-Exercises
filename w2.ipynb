{
 "cells": [
  {
   "cell_type": "markdown",
   "metadata": {},
   "source": [
    "PROGRAMS:"
   ]
  },
  {
   "cell_type": "code",
   "execution_count": null,
   "metadata": {},
   "outputs": [],
   "source": [
    "# Q1\n",
    "name = input(\"Hello, what is your name? \")\n",
    "name = name.title()\n",
    "print(f\"Hello, {name}. Good to meet you!\")"
   ]
  },
  {
   "cell_type": "code",
   "execution_count": null,
   "metadata": {},
   "outputs": [],
   "source": [
    "# Q2\n",
    "cels = float(input(\"Enter a temperature in Celsius: \"))\n",
    "fahr = cels * (9/5) + 32\n",
    "print(f\"{cels}C is equivalent to {fahr}F\")"
   ]
  },
  {
   "cell_type": "code",
   "execution_count": null,
   "metadata": {},
   "outputs": [],
   "source": [
    "# Q3\n",
    "try:\n",
    "    students = int(input(\"How many students? \"))\n",
    "    size = int(input(\"Required group size? \"))\n",
    "    \n",
    "    if students < 0 or size < 0:\n",
    "        raise Exception(\"No negative numbers\")\n",
    "    \n",
    "    groups = students // size\n",
    "    rem = students % size\n",
    "    \n",
    "    if groups == 1 and rem != 1:\n",
    "        print(f\"There will be {groups} group with {rem} students left over.\")\n",
    "        \n",
    "    elif groups != 1 and rem == 1:    \n",
    "        print(f\"There will be {groups} groups with {rem} student left over.\")\n",
    "\n",
    "    elif groups == 1 and rem == 1:\n",
    "            print(f\"There will be {groups} group with {rem} student left over.\")\n",
    "\n",
    "    else:\n",
    "        print(f\"There will be {groups} groups with {rem} students left over.\")\n",
    "\n",
    "except:\n",
    "    print(\"Integers only\")"
   ]
  },
  {
   "cell_type": "code",
   "execution_count": null,
   "metadata": {},
   "outputs": [],
   "source": [
    "# Q4\n",
    "pups = int(input(\"Number of pupils? \"))\n",
    "sweets = int(input(\"How many sweets? \"))\n",
    "\n",
    "get_sweet = pups // sweets\n",
    "rem_sweets = pups % sweets\n",
    "\n",
    "print(f\"Each student will get {get_sweet} sweets!\")"
   ]
  },
  {
   "cell_type": "markdown",
   "metadata": {},
   "source": [
    "EXERCISES:"
   ]
  },
  {
   "cell_type": "markdown",
   "metadata": {},
   "source": [
    "Which is the purpose of a variable within Python?\n",
    "-> To store data by acting as a container."
   ]
  },
  {
   "cell_type": "markdown",
   "metadata": {},
   "source": [
    "Write a simple Python statement that creates and assigns a value of 3.142 to a variable\n",
    "called ‘pi'\n",
    "-> pi = 3.142"
   ]
  },
  {
   "cell_type": "markdown",
   "metadata": {},
   "source": [
    "Which of the following is NOT a valid name for a variable within Python?\n",
    "total\n",
    "result\n",
    "question?\n",
    "name_1\n",
    "-> question?"
   ]
  },
  {
   "cell_type": "markdown",
   "metadata": {},
   "source": [
    "Following the execution of the code below, what will be stored in the variable 'age'?\n",
    "age = 10 + 20\n",
    "age = age + 5\n",
    "age = 35"
   ]
  },
  {
   "cell_type": "markdown",
   "metadata": {},
   "source": [
    "In the answer box below write the exact output that would be displayed if the following\n",
    "statement was executed (assuming age has been created as in the previous question):\n"
   ]
  },
  {
   "cell_type": "markdown",
   "metadata": {},
   "source": [
    "print(\"The age value is\",age)\n",
    "-> The age value is 35"
   ]
  },
  {
   "cell_type": "markdown",
   "metadata": {},
   "source": [
    "Which of the following is an example of an Augmented Assignment in Python?\n",
    "total = 20\n",
    "total = total + 5\n",
    "total *= 100\n",
    "total = max\n",
    "-> total *= 100"
   ]
  },
  {
   "cell_type": "markdown",
   "metadata": {},
   "source": [
    "Which of the following is an example of an integer type variable?\n",
    "result = \"xyz\"\n",
    "result = 20\n",
    "result = 20.5\n",
    "result = False\n",
    "-> result = 20"
   ]
  },
  {
   "cell_type": "markdown",
   "metadata": {},
   "source": [
    "What are the only two legal values of a boolean type variable?\n",
    "-> True, False"
   ]
  },
  {
   "cell_type": "markdown",
   "metadata": {},
   "source": [
    "Following the execution of the code below, what will be the data-type of the variable\n",
    "'average'?\n",
    "average = total / count\n",
    "\n",
    "-> float"
   ]
  },
  {
   "cell_type": "markdown",
   "metadata": {},
   "source": [
    "Following the execution of the code below, what will be the data-type of the variable\n",
    "'message'?\n",
    "message = \"hello there!\"\n",
    "\n",
    "-> string"
   ]
  },
  {
   "cell_type": "markdown",
   "metadata": {},
   "source": [
    "What determines the current data-type of a variable?\n",
    "\n",
    "-> The value assigned to the variable determines its data type."
   ]
  },
  {
   "cell_type": "markdown",
   "metadata": {},
   "source": [
    "What is the purpose of the built-in type() function?\n",
    "\n",
    "-> It shows the data type of a variable."
   ]
  },
  {
   "cell_type": "markdown",
   "metadata": {},
   "source": [
    "What would be the output following execution of the following code?\n",
    "type(10.2)\n",
    "\n",
    "-> Float"
   ]
  },
  {
   "cell_type": "markdown",
   "metadata": {},
   "source": [
    "Does the Python language support Dynamic Typing, or Static Typing?\n",
    "\n",
    "-> Dynamically Typed"
   ]
  },
  {
   "cell_type": "markdown",
   "metadata": {},
   "source": [
    "Which of the following is an example of a function call?\n",
    "answer = 10\n",
    "print(answer)\n",
    "total *= 10\n",
    "10 + 20\n",
    "\n",
    "-> print(answer)"
   ]
  },
  {
   "cell_type": "markdown",
   "metadata": {},
   "source": [
    "Which of the following is an example of a function call?\n",
    "answer = 10\n",
    "print(answer)\n",
    "total *= 10\n",
    "10 + 20\n",
    "\n",
    "-> print(answer)"
   ]
  },
  {
   "cell_type": "markdown",
   "metadata": {},
   "source": [
    "What is the name given to the values that are passed to a function within the parentheses?\n",
    "\n",
    "-> Parameters"
   ]
  },
  {
   "cell_type": "markdown",
   "metadata": {},
   "source": [
    "What is the purpose of the built-in input() function?\n",
    "\n",
    "-> To take input from the user."
   ]
  },
  {
   "cell_type": "markdown",
   "metadata": {},
   "source": [
    "What is the data-type of the value returned by the input() function?\n",
    "\n",
    "-> String"
   ]
  },
  {
   "cell_type": "markdown",
   "metadata": {},
   "source": [
    "Use the Python interpreter to input a small Python program that prints your name and\n",
    "address on the screen. Once this works type the program in the answer box below.\n",
    "\n",
    "->\n",
    "name = input(\"Enter your name: \")\n",
    "address = input(\"Enter your address: \")\n",
    "print(name, address)"
   ]
  },
  {
   "cell_type": "markdown",
   "metadata": {},
   "source": [
    "Within the answer box below write a small Python program, that when run, would print the\n",
    "following message including the double quotes -\n",
    "Hello, is your name \"Bwian\"?\n",
    "\n",
    "-> print(\"Hello, is your name \\\"Bwian\\\"?\")"
   ]
  },
  {
   "cell_type": "markdown",
   "metadata": {},
   "source": [
    "Now write a second small Python program, that when run, would print the following message\n",
    "including the single quotes -\n",
    "Or is your name 'Woger'?\n",
    "\n",
    "-> print(\"Or is your name 'Woger'\")"
   ]
  },
  {
   "cell_type": "markdown",
   "metadata": {},
   "source": [
    "Within the answer box below write a small Python program, that when run, uses escape\n",
    "sequences to print the following text exactly.\n",
    "This is a string containing a backslash (\\),\n",
    " a single quote ('), a double quote (\")\n",
    "  and is split across multiple lines\n",
    "\n",
    "-> print(\"This is a string containing a backslash (\\),\\n\"\"\\ta single quote ('), a double quote (\\\")\\n\"\"\\tand is split across multiple lines\")"
   ]
  },
  {
   "cell_type": "markdown",
   "metadata": {},
   "source": [
    "Within the answer box below write a small Python program, that when run, uses triple quotes\n",
    "to print the following text exactly.\n",
    "This is a string containing a backslash (\\),\n",
    " a single quote ('), a double quote (\")\n",
    " and is split across multiple lines\n",
    "\n",
    "-> print('''This is a string containing a backslash (\\),\\n''' '''\\ta single quote ('), a double quote (\")\\n''' '''\\tand is split across multiple lines''')"
   ]
  },
  {
   "cell_type": "markdown",
   "metadata": {},
   "source": [
    "Use the Python interpreter to input a small Python program that asks the user to input a\n",
    "temperature in fahrenheit. Once the value has been input, display a message that shows the\n",
    "same temperature in celsius. You may have to do some research in order to find out the\n",
    "conversion method. Once this works, type the program in the answer box below.\n",
    "\n",
    "->\n",
    "fahrenheit = float(input(\"Enter temperature in fahrenheit: \"))\n",
    "celsius = (fahrenheit - 32) * 5/9\n",
    "print(\"Temperature in celsius:\", celsius)"
   ]
  },
  {
   "cell_type": "markdown",
   "metadata": {},
   "source": [
    "Within the answer box below write a small Python program that asks the user to enter two\n",
    "values. Store these in variables called 'a' and 'b' respectively.\n",
    "\n",
    "->\n",
    "a = float(input(\"Enter a value: \"))\n",
    "b = float(input(\"Enter another value: \"))"
   ]
  },
  {
   "cell_type": "markdown",
   "metadata": {},
   "source": [
    "Once the values have been input use three calls to the print() function to show output\n",
    "such as the following (in this example the user entered 10.2 and 18.3) -\n",
    "The value 'a' was 10.2 and the value 'b' was 18.3\n",
    "The sum of 'a' and 'b' is 28.5\n",
    "The product of 'a' and 'b' is 186.66\n",
    "\n",
    "-> \n",
    "print(f\"The value 'a' was {a} and the value 'b' was {b}\")\n",
    "print(f\"The sum of 'a' and 'b' is {a+b}\")\n",
    "print(f\"The product of 'a' and 'b' is {a*b}\")"
   ]
  },
  {
   "cell_type": "markdown",
   "metadata": {},
   "source": [
    "Python includes a built-in function called max(). When this is called with multiple argument\n",
    "values it returns the largest of the given arguments. e.g.\n",
    "max(20, 50, 30) # this would return 50\n",
    "Within the answer box below write a small program that asks the user to input three values.\n",
    "Store these in variables (the names are up to you) then use the max() function to display the\n",
    "largest of the input values.\n",
    "\n",
    "->\n",
    "a = float(input(\"Enter a number: \"))\n",
    "b = float(input(\"Enter a number: \"))\n",
    "c = float(input(\"Enter a number: \"))\n",
    "print(max(a, b, c))"
   ]
  },
  {
   "cell_type": "markdown",
   "metadata": {},
   "source": [
    "Using the Python interpreter execute your code, then examine the output generated when\n",
    "the input the values are 'hello', 'welcome', and 'bye'\n",
    "Does the program still show the maximum value? If not, what does it show?\n",
    "\n",
    "->It shows the string with the highest ascii value in the first character."
   ]
  },
  {
   "cell_type": "markdown",
   "metadata": {},
   "source": [
    "Given the following definition:\n",
    "name = \"Black Knight\"\n",
    "What would each of the following Python statements display?\n",
    "\n",
    "print( name[0] )\n",
    "\n",
    "-> \"B\"\n",
    "\n",
    "print( name[4] )\n",
    "\n",
    "-> \"k\"\n",
    "\n",
    "print( name[-1] )\n",
    "\n",
    "-> \"t\"\n",
    "\n",
    "print( name[-2] )\n",
    "\n",
    "-> \"h\"\n",
    "\n",
    "print( name[2:5] )\n",
    "\n",
    "-> \"ack\"\n",
    "\n",
    "print( name[6:] )\n",
    "\n",
    "-> \" Knight\"\n",
    "\n",
    "print( name[:5] )\n",
    "\n",
    "-> \"Black\"\n",
    "\n",
    "print( name[:] )\n",
    "\n",
    "-> \"Black Knight\""
   ]
  },
  {
   "cell_type": "markdown",
   "metadata": {},
   "source": [
    "Which of the following creates a variable containing a List?\n",
    "names = \"Terry\"\n",
    "names = 10\n",
    "names = [ \"Mark\", \"Jon\", \"Amanda\", \"Edward\", \"Sally\" ]\n",
    "names = \"Mark\", \"Jon\", \"Amanda\"\n",
    "\n",
    "-> names = [ \"Mark\", \"Jon\", \"Amanda\", \"Edward\", \"Sally\" ]"
   ]
  },
  {
   "cell_type": "markdown",
   "metadata": {},
   "source": [
    "Is the following a valid List, even though it contains values based on different data-types?\n",
    "values = [10.2, \"Jon\", False, \"Edward\", True ]\n",
    "\n",
    "-> Yes, it is possible."
   ]
  },
  {
   "cell_type": "markdown",
   "metadata": {},
   "source": [
    "If a value is mutable, can it be modified after it has been created?\n",
    "\n",
    "-> Yes"
   ]
  },
  {
   "cell_type": "markdown",
   "metadata": {},
   "source": [
    "What term is used to describe a value that cannot be changed once it has been created?\n",
    "\n",
    "-> Immutable"
   ]
  },
  {
   "cell_type": "markdown",
   "metadata": {},
   "source": [
    "Is a List mutable or immutable?\n",
    "\n",
    "-> A list is mutable."
   ]
  },
  {
   "cell_type": "markdown",
   "metadata": {},
   "source": [
    "Is a String mutable or immutable?\n",
    "\n",
    "-> A string is immutable."
   ]
  },
  {
   "cell_type": "markdown",
   "metadata": {},
   "source": [
    "Given the following definition -\n",
    "\n",
    "names = [\"Terry\", \"John\", \"Michael\", \"Eric\", \"Terry\", \"Graham\"]\n",
    "\n",
    "What would each of the following Python statements display?"
   ]
  },
  {
   "cell_type": "markdown",
   "metadata": {},
   "source": [
    "print( names[2] )\n",
    "\n",
    "-> Michael\n",
    "\n",
    "print( names[-2] )\n",
    "\n",
    "-> Terry\n",
    "\n",
    "print( names[0:3] )\n",
    "\n",
    "-> ['Terry', 'John', 'Michael']\n",
    "\n",
    "names = names + \"Brian\"\n",
    "print( names )\n",
    "\n",
    "-> Can only concatenate ist (not \"str\") to list error.\n",
    "\n",
    "names[0:1] = [\"Mark\", \"Jon\"]\n",
    "print( names )\n",
    "\n",
    "->\n",
    "['Mark', 'Jon', 'John', 'Michael', 'Eric', 'Terry', 'Graham']"
   ]
  },
  {
   "cell_type": "markdown",
   "metadata": {},
   "source": [
    "What built-in function within Python can be used to find out how many elements are\n",
    "contained within a string or list?\n",
    "\n",
    "-> len()"
   ]
  }
 ],
 "metadata": {
  "kernelspec": {
   "display_name": "Python 3",
   "language": "python",
   "name": "python3"
  },
  "language_info": {
   "codemirror_mode": {
    "name": "ipython",
    "version": 3
   },
   "file_extension": ".py",
   "mimetype": "text/x-python",
   "name": "python",
   "nbconvert_exporter": "python",
   "pygments_lexer": "ipython3",
   "version": "3.10.11"
  }
 },
 "nbformat": 4,
 "nbformat_minor": 2
}
